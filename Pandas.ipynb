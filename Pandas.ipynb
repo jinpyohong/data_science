{
 "cells": [
  {
   "cell_type": "markdown",
   "metadata": {},
   "source": [
    "# Pandas\n",
    "Data structures in pandas\n",
    "- `Series` objects: 1D array, similar to a column in a spreadsheet\n",
    "- `DataFrame` objects: 2D table, similar to a spreadsheet\n",
    "- `Panel` objects: Dictionary of DataFrames, similar to sheet in MS Excel"
   ]
  },
  {
   "cell_type": "markdown",
   "metadata": {},
   "source": [
    "## Series"
   ]
  },
  {
   "cell_type": "code",
   "execution_count": 1,
   "metadata": {},
   "outputs": [
    {
     "name": "stdout",
     "output_type": "stream",
     "text": [
      "0    1984\n",
      "1    1985\n",
      "2    1992\n",
      "dtype: int64\n",
      "RangeIndex(start=0, stop=3, step=1)\n",
      "\n",
      "alice       68\n",
      "bob         83\n",
      "charles    112\n",
      "dtype: int64\n",
      "Index(['alice', 'bob', 'charles'], dtype='object')\n"
     ]
    }
   ],
   "source": [
    "import pandas as pd\n",
    "import numpy as np\n",
    "\n",
    "birthyear = pd.Series([1984, 1985, 1992])\n",
    "print(birthyear)\n",
    "print(birthyear.index)\n",
    "print()\n",
    "\n",
    "weight = pd.Series([68, 83, 112],index=[\"alice\", \"bob\", \"charles\"])\n",
    "print(weight)\n",
    "print(weight.index)"
   ]
  },
  {
   "cell_type": "markdown",
   "metadata": {},
   "source": [
    "## DataFrame Creation\n",
    "- from dict\n",
    "- from iterables (with column names)\n",
    "- from ndarray (with colum names)"
   ]
  },
  {
   "cell_type": "code",
   "execution_count": 3,
   "metadata": {},
   "outputs": [
    {
     "name": "stdout",
     "output_type": "stream",
     "text": [
      "         weight  birthyear  children    hobby\n",
      "alice        68       1985       NaN   Biking\n",
      "bob          83       1984       3.0  Dancing\n",
      "charles     112       1992       0.0      NaN\n"
     ]
    }
   ],
   "source": [
    "weight = pd.Series([68, 83, 112],index=[\"alice\", \"bob\", \"charles\"])\n",
    "birthyear = pd.Series([1984, 1985, 1992], index=[\"bob\", \"alice\", \"charles\"], name=\"year\")\n",
    "children = pd.Series([0, 3], index=[\"charles\", \"bob\"])\n",
    "hobby = pd.Series([\"Biking\", \"Dancing\"], index=[\"alice\", \"bob\"])\n",
    "\n",
    "people_dict = { \"weight\": weight,\n",
    "                \"birthyear\": birthyear,\n",
    "                \"children\": children,\n",
    "                \"hobby\": hobby}\n",
    "\n",
    "people = pd.DataFrame(people_dict)\n",
    "print(people)"
   ]
  },
  {
   "cell_type": "code",
   "execution_count": 3,
   "metadata": {},
   "outputs": [
    {
     "name": "stdout",
     "output_type": "stream",
     "text": [
      "shape: (3, 4)\n",
      "birthyear      int64\n",
      "children     float64\n",
      "hobby         object\n",
      "weight         int64\n",
      "dtype: object\n",
      "index: Index(['alice', 'bob', 'charles'], dtype='object')\n",
      "columns: Index(['birthyear', 'children', 'hobby', 'weight'], dtype='object')\n"
     ]
    }
   ],
   "source": [
    "print('shape:', people.shape)\n",
    "print(people.dtypes)\n",
    "print('index:', people.index)\n",
    "print('columns:', people.columns)"
   ]
  },
  {
   "cell_type": "code",
   "execution_count": 4,
   "metadata": {},
   "outputs": [
    {
     "data": {
      "text/plain": [
       "alice      1985\n",
       "bob        1984\n",
       "charles    1992\n",
       "Name: birthyear, dtype: int64"
      ]
     },
     "execution_count": 4,
     "metadata": {},
     "output_type": "execute_result"
    }
   ],
   "source": [
    "people['birthyear']     # extracting column --> Series"
   ]
  },
  {
   "cell_type": "code",
   "execution_count": 5,
   "metadata": {},
   "outputs": [
    {
     "data": {
      "text/plain": [
       "alice       True\n",
       "bob         True\n",
       "charles    False\n",
       "Name: birthyear, dtype: bool"
      ]
     },
     "execution_count": 5,
     "metadata": {},
     "output_type": "execute_result"
    }
   ],
   "source": [
    "people['birthyear'] < 1990      # like numpy boolean array"
   ]
  },
  {
   "cell_type": "code",
   "execution_count": 6,
   "metadata": {},
   "outputs": [
    {
     "data": {
      "text/html": [
       "<div>\n",
       "<style>\n",
       "    .dataframe thead tr:only-child th {\n",
       "        text-align: right;\n",
       "    }\n",
       "\n",
       "    .dataframe thead th {\n",
       "        text-align: left;\n",
       "    }\n",
       "\n",
       "    .dataframe tbody tr th {\n",
       "        vertical-align: top;\n",
       "    }\n",
       "</style>\n",
       "<table border=\"1\" class=\"dataframe\">\n",
       "  <thead>\n",
       "    <tr style=\"text-align: right;\">\n",
       "      <th></th>\n",
       "      <th>birthyear</th>\n",
       "      <th>children</th>\n",
       "      <th>hobby</th>\n",
       "      <th>weight</th>\n",
       "    </tr>\n",
       "  </thead>\n",
       "  <tbody>\n",
       "    <tr>\n",
       "      <th>alice</th>\n",
       "      <td>1985</td>\n",
       "      <td>NaN</td>\n",
       "      <td>Biking</td>\n",
       "      <td>68</td>\n",
       "    </tr>\n",
       "    <tr>\n",
       "      <th>bob</th>\n",
       "      <td>1984</td>\n",
       "      <td>3.0</td>\n",
       "      <td>Dancing</td>\n",
       "      <td>83</td>\n",
       "    </tr>\n",
       "  </tbody>\n",
       "</table>\n",
       "</div>"
      ],
      "text/plain": [
       "       birthyear  children    hobby  weight\n",
       "alice       1985       NaN   Biking      68\n",
       "bob         1984       3.0  Dancing      83"
      ]
     },
     "execution_count": 6,
     "metadata": {},
     "output_type": "execute_result"
    }
   ],
   "source": [
    "old_people = people[people['birthyear'] < 1990]    # like numpy boolean array indexing\n",
    "old_people"
   ]
  },
  {
   "cell_type": "code",
   "execution_count": 7,
   "metadata": {},
   "outputs": [
    {
     "data": {
      "text/html": [
       "<div>\n",
       "<style>\n",
       "    .dataframe thead tr:only-child th {\n",
       "        text-align: right;\n",
       "    }\n",
       "\n",
       "    .dataframe thead th {\n",
       "        text-align: left;\n",
       "    }\n",
       "\n",
       "    .dataframe tbody tr th {\n",
       "        vertical-align: top;\n",
       "    }\n",
       "</style>\n",
       "<table border=\"1\" class=\"dataframe\">\n",
       "  <thead>\n",
       "    <tr style=\"text-align: right;\">\n",
       "      <th></th>\n",
       "      <th>birthyear</th>\n",
       "      <th>weight</th>\n",
       "    </tr>\n",
       "  </thead>\n",
       "  <tbody>\n",
       "    <tr>\n",
       "      <th>alice</th>\n",
       "      <td>1985</td>\n",
       "      <td>68</td>\n",
       "    </tr>\n",
       "    <tr>\n",
       "      <th>bob</th>\n",
       "      <td>1984</td>\n",
       "      <td>83</td>\n",
       "    </tr>\n",
       "    <tr>\n",
       "      <th>charles</th>\n",
       "      <td>1992</td>\n",
       "      <td>112</td>\n",
       "    </tr>\n",
       "  </tbody>\n",
       "</table>\n",
       "</div>"
      ],
      "text/plain": [
       "         birthyear  weight\n",
       "alice         1985      68\n",
       "bob           1984      83\n",
       "charles       1992     112"
      ]
     },
     "execution_count": 7,
     "metadata": {},
     "output_type": "execute_result"
    }
   ],
   "source": [
    "people_abbr = people[['birthyear', 'weight']]   # like numpy integer array indexing\n",
    "people_abbr"
   ]
  },
  {
   "cell_type": "code",
   "execution_count": 8,
   "metadata": {},
   "outputs": [
    {
     "data": {
      "text/plain": [
       "87.66666666666667"
      ]
     },
     "execution_count": 8,
     "metadata": {},
     "output_type": "execute_result"
    }
   ],
   "source": [
    "people['weight'].mean()"
   ]
  },
  {
   "cell_type": "markdown",
   "metadata": {},
   "source": [
    "# Data Preparation\n"
   ]
  },
  {
   "cell_type": "code",
   "execution_count": 2,
   "metadata": {},
   "outputs": [
    {
     "data": {
      "text/html": [
       "<div>\n",
       "<style scoped>\n",
       "    .dataframe tbody tr th:only-of-type {\n",
       "        vertical-align: middle;\n",
       "    }\n",
       "\n",
       "    .dataframe tbody tr th {\n",
       "        vertical-align: top;\n",
       "    }\n",
       "\n",
       "    .dataframe thead th {\n",
       "        text-align: right;\n",
       "    }\n",
       "</style>\n",
       "<table border=\"1\" class=\"dataframe\">\n",
       "  <thead>\n",
       "    <tr style=\"text-align: right;\">\n",
       "      <th></th>\n",
       "      <th>Pregnancies</th>\n",
       "      <th>Glucose</th>\n",
       "      <th>BloodPressure</th>\n",
       "      <th>SkinThickness</th>\n",
       "      <th>Insulin</th>\n",
       "      <th>BMI</th>\n",
       "      <th>DiabetesPedigreeFunction</th>\n",
       "      <th>Age</th>\n",
       "      <th>Outcome</th>\n",
       "    </tr>\n",
       "  </thead>\n",
       "  <tbody>\n",
       "    <tr>\n",
       "      <th>0</th>\n",
       "      <td>6</td>\n",
       "      <td>148</td>\n",
       "      <td>72</td>\n",
       "      <td>35</td>\n",
       "      <td>0</td>\n",
       "      <td>33.6</td>\n",
       "      <td>0.627</td>\n",
       "      <td>50</td>\n",
       "      <td>1</td>\n",
       "    </tr>\n",
       "    <tr>\n",
       "      <th>1</th>\n",
       "      <td>1</td>\n",
       "      <td>85</td>\n",
       "      <td>66</td>\n",
       "      <td>29</td>\n",
       "      <td>0</td>\n",
       "      <td>26.6</td>\n",
       "      <td>0.351</td>\n",
       "      <td>31</td>\n",
       "      <td>0</td>\n",
       "    </tr>\n",
       "    <tr>\n",
       "      <th>2</th>\n",
       "      <td>8</td>\n",
       "      <td>183</td>\n",
       "      <td>64</td>\n",
       "      <td>0</td>\n",
       "      <td>0</td>\n",
       "      <td>23.3</td>\n",
       "      <td>0.672</td>\n",
       "      <td>32</td>\n",
       "      <td>1</td>\n",
       "    </tr>\n",
       "    <tr>\n",
       "      <th>3</th>\n",
       "      <td>1</td>\n",
       "      <td>89</td>\n",
       "      <td>66</td>\n",
       "      <td>23</td>\n",
       "      <td>94</td>\n",
       "      <td>28.1</td>\n",
       "      <td>0.167</td>\n",
       "      <td>21</td>\n",
       "      <td>0</td>\n",
       "    </tr>\n",
       "    <tr>\n",
       "      <th>4</th>\n",
       "      <td>0</td>\n",
       "      <td>137</td>\n",
       "      <td>40</td>\n",
       "      <td>35</td>\n",
       "      <td>168</td>\n",
       "      <td>43.1</td>\n",
       "      <td>2.288</td>\n",
       "      <td>33</td>\n",
       "      <td>1</td>\n",
       "    </tr>\n",
       "    <tr>\n",
       "      <th>...</th>\n",
       "      <td>...</td>\n",
       "      <td>...</td>\n",
       "      <td>...</td>\n",
       "      <td>...</td>\n",
       "      <td>...</td>\n",
       "      <td>...</td>\n",
       "      <td>...</td>\n",
       "      <td>...</td>\n",
       "      <td>...</td>\n",
       "    </tr>\n",
       "    <tr>\n",
       "      <th>763</th>\n",
       "      <td>10</td>\n",
       "      <td>101</td>\n",
       "      <td>76</td>\n",
       "      <td>48</td>\n",
       "      <td>180</td>\n",
       "      <td>32.9</td>\n",
       "      <td>0.171</td>\n",
       "      <td>63</td>\n",
       "      <td>0</td>\n",
       "    </tr>\n",
       "    <tr>\n",
       "      <th>764</th>\n",
       "      <td>2</td>\n",
       "      <td>122</td>\n",
       "      <td>70</td>\n",
       "      <td>27</td>\n",
       "      <td>0</td>\n",
       "      <td>36.8</td>\n",
       "      <td>0.340</td>\n",
       "      <td>27</td>\n",
       "      <td>0</td>\n",
       "    </tr>\n",
       "    <tr>\n",
       "      <th>765</th>\n",
       "      <td>5</td>\n",
       "      <td>121</td>\n",
       "      <td>72</td>\n",
       "      <td>23</td>\n",
       "      <td>112</td>\n",
       "      <td>26.2</td>\n",
       "      <td>0.245</td>\n",
       "      <td>30</td>\n",
       "      <td>0</td>\n",
       "    </tr>\n",
       "    <tr>\n",
       "      <th>766</th>\n",
       "      <td>1</td>\n",
       "      <td>126</td>\n",
       "      <td>60</td>\n",
       "      <td>0</td>\n",
       "      <td>0</td>\n",
       "      <td>30.1</td>\n",
       "      <td>0.349</td>\n",
       "      <td>47</td>\n",
       "      <td>1</td>\n",
       "    </tr>\n",
       "    <tr>\n",
       "      <th>767</th>\n",
       "      <td>1</td>\n",
       "      <td>93</td>\n",
       "      <td>70</td>\n",
       "      <td>31</td>\n",
       "      <td>0</td>\n",
       "      <td>30.4</td>\n",
       "      <td>0.315</td>\n",
       "      <td>23</td>\n",
       "      <td>0</td>\n",
       "    </tr>\n",
       "  </tbody>\n",
       "</table>\n",
       "<p>768 rows × 9 columns</p>\n",
       "</div>"
      ],
      "text/plain": [
       "     Pregnancies  Glucose  BloodPressure  SkinThickness  Insulin   BMI  \\\n",
       "0              6      148             72             35        0  33.6   \n",
       "1              1       85             66             29        0  26.6   \n",
       "2              8      183             64              0        0  23.3   \n",
       "3              1       89             66             23       94  28.1   \n",
       "4              0      137             40             35      168  43.1   \n",
       "..           ...      ...            ...            ...      ...   ...   \n",
       "763           10      101             76             48      180  32.9   \n",
       "764            2      122             70             27        0  36.8   \n",
       "765            5      121             72             23      112  26.2   \n",
       "766            1      126             60              0        0  30.1   \n",
       "767            1       93             70             31        0  30.4   \n",
       "\n",
       "     DiabetesPedigreeFunction  Age  Outcome  \n",
       "0                       0.627   50        1  \n",
       "1                       0.351   31        0  \n",
       "2                       0.672   32        1  \n",
       "3                       0.167   21        0  \n",
       "4                       2.288   33        1  \n",
       "..                        ...  ...      ...  \n",
       "763                     0.171   63        0  \n",
       "764                     0.340   27        0  \n",
       "765                     0.245   30        0  \n",
       "766                     0.349   47        1  \n",
       "767                     0.315   23        0  \n",
       "\n",
       "[768 rows x 9 columns]"
      ]
     },
     "execution_count": 2,
     "metadata": {},
     "output_type": "execute_result"
    }
   ],
   "source": [
    "df = pd.read_csv(\"data/diabetes.csv\")\n",
    "df"
   ]
  },
  {
   "cell_type": "markdown",
   "metadata": {},
   "source": []
  },
  {
   "cell_type": "code",
   "execution_count": 9,
   "metadata": {},
   "outputs": [
    {
     "name": "stdout",
     "output_type": "stream",
     "text": [
      "(2720, 9)\n"
     ]
    },
    {
     "data": {
      "text/html": [
       "<div>\n",
       "<style>\n",
       "    .dataframe thead tr:only-child th {\n",
       "        text-align: right;\n",
       "    }\n",
       "\n",
       "    .dataframe thead th {\n",
       "        text-align: left;\n",
       "    }\n",
       "\n",
       "    .dataframe tbody tr th {\n",
       "        vertical-align: top;\n",
       "    }\n",
       "</style>\n",
       "<table border=\"1\" class=\"dataframe\">\n",
       "  <thead>\n",
       "    <tr style=\"text-align: right;\">\n",
       "      <th></th>\n",
       "      <th>HIP</th>\n",
       "      <th>Vmag</th>\n",
       "      <th>RA</th>\n",
       "      <th>DE</th>\n",
       "      <th>Plx</th>\n",
       "      <th>pmRA</th>\n",
       "      <th>pmDE</th>\n",
       "      <th>e_Plx</th>\n",
       "      <th>B-V</th>\n",
       "    </tr>\n",
       "  </thead>\n",
       "  <tbody>\n",
       "    <tr>\n",
       "      <th>0</th>\n",
       "      <td>2</td>\n",
       "      <td>9.27</td>\n",
       "      <td>0.003797</td>\n",
       "      <td>-19.498837</td>\n",
       "      <td>21.90</td>\n",
       "      <td>181.21</td>\n",
       "      <td>-0.93</td>\n",
       "      <td>3.10</td>\n",
       "      <td>0.999</td>\n",
       "    </tr>\n",
       "    <tr>\n",
       "      <th>1</th>\n",
       "      <td>38</td>\n",
       "      <td>8.65</td>\n",
       "      <td>0.111047</td>\n",
       "      <td>-79.061831</td>\n",
       "      <td>23.84</td>\n",
       "      <td>162.30</td>\n",
       "      <td>-62.40</td>\n",
       "      <td>0.78</td>\n",
       "      <td>0.778</td>\n",
       "    </tr>\n",
       "    <tr>\n",
       "      <th>2</th>\n",
       "      <td>47</td>\n",
       "      <td>10.78</td>\n",
       "      <td>0.135192</td>\n",
       "      <td>-56.835248</td>\n",
       "      <td>24.45</td>\n",
       "      <td>-44.21</td>\n",
       "      <td>-145.90</td>\n",
       "      <td>1.97</td>\n",
       "      <td>1.150</td>\n",
       "    </tr>\n",
       "    <tr>\n",
       "      <th>3</th>\n",
       "      <td>54</td>\n",
       "      <td>10.57</td>\n",
       "      <td>0.151656</td>\n",
       "      <td>17.968956</td>\n",
       "      <td>20.97</td>\n",
       "      <td>367.14</td>\n",
       "      <td>-19.49</td>\n",
       "      <td>1.71</td>\n",
       "      <td>1.030</td>\n",
       "    </tr>\n",
       "    <tr>\n",
       "      <th>4</th>\n",
       "      <td>74</td>\n",
       "      <td>9.93</td>\n",
       "      <td>0.221873</td>\n",
       "      <td>35.752722</td>\n",
       "      <td>24.22</td>\n",
       "      <td>157.73</td>\n",
       "      <td>-40.31</td>\n",
       "      <td>1.36</td>\n",
       "      <td>1.068</td>\n",
       "    </tr>\n",
       "  </tbody>\n",
       "</table>\n",
       "</div>"
      ],
      "text/plain": [
       "  HIP   Vmag        RA         DE    Plx    pmRA    pmDE  e_Plx    B-V\n",
       "0   2   9.27  0.003797 -19.498837  21.90  181.21   -0.93   3.10  0.999\n",
       "1  38   8.65  0.111047 -79.061831  23.84  162.30  -62.40   0.78  0.778\n",
       "2  47  10.78  0.135192 -56.835248  24.45  -44.21 -145.90   1.97  1.150\n",
       "3  54  10.57  0.151656  17.968956  20.97  367.14  -19.49   1.71  1.030\n",
       "4  74   9.93  0.221873  35.752722  24.22  157.73  -40.31   1.36  1.068"
      ]
     },
     "execution_count": 9,
     "metadata": {},
     "output_type": "execute_result"
    }
   ],
   "source": [
    "url = 'http://bogotobogo.com/python/images/python_Pandas_NumPy_Matplotlib/HIP_star.dat'\n",
    "df = pd.read_csv(url, sep='\\s+')\n",
    "print(df.shape)\n",
    "df.head()"
   ]
  },
  {
   "cell_type": "markdown",
   "metadata": {},
   "source": [
    "Data preprocessing: check data validity"
   ]
  },
  {
   "cell_type": "code",
   "execution_count": 10,
   "metadata": {},
   "outputs": [
    {
     "data": {
      "text/plain": [
       "HIP       0\n",
       "Vmag      1\n",
       "RA        1\n",
       "DE        1\n",
       "Plx       1\n",
       "pmRA      1\n",
       "pmDE      1\n",
       "e_Plx     1\n",
       "B-V      42\n",
       "dtype: int64"
      ]
     },
     "execution_count": 10,
     "metadata": {},
     "output_type": "execute_result"
    }
   ],
   "source": [
    "# check if a colum has no data (or NaN)\n",
    "df.isnull().sum()"
   ]
  },
  {
   "cell_type": "code",
   "execution_count": 11,
   "metadata": {},
   "outputs": [
    {
     "data": {
      "text/plain": [
       "HIP      0\n",
       "Vmag     0\n",
       "RA       0\n",
       "DE       0\n",
       "Plx      0\n",
       "pmRA     0\n",
       "pmDE     0\n",
       "e_Plx    0\n",
       "B-V      0\n",
       "dtype: int64"
      ]
     },
     "execution_count": 11,
     "metadata": {},
     "output_type": "execute_result"
    }
   ],
   "source": [
    "# Drop any row if any of the column ha no data\n",
    "df = df.dropna()\n",
    "# Check again\n",
    "df.isnull().sum()"
   ]
  },
  {
   "cell_type": "code",
   "execution_count": 12,
   "metadata": {},
   "outputs": [
    {
     "data": {
      "text/html": [
       "<div>\n",
       "<style>\n",
       "    .dataframe thead tr:only-child th {\n",
       "        text-align: right;\n",
       "    }\n",
       "\n",
       "    .dataframe thead th {\n",
       "        text-align: left;\n",
       "    }\n",
       "\n",
       "    .dataframe tbody tr th {\n",
       "        vertical-align: top;\n",
       "    }\n",
       "</style>\n",
       "<table border=\"1\" class=\"dataframe\">\n",
       "  <thead>\n",
       "    <tr style=\"text-align: right;\">\n",
       "      <th></th>\n",
       "      <th>Vmag</th>\n",
       "      <th>RA</th>\n",
       "      <th>DE</th>\n",
       "      <th>Plx</th>\n",
       "      <th>pmRA</th>\n",
       "      <th>pmDE</th>\n",
       "      <th>e_Plx</th>\n",
       "      <th>B-V</th>\n",
       "    </tr>\n",
       "  </thead>\n",
       "  <tbody>\n",
       "    <tr>\n",
       "      <th>count</th>\n",
       "      <td>2678.000000</td>\n",
       "      <td>2678.000000</td>\n",
       "      <td>2678.000000</td>\n",
       "      <td>2678.000000</td>\n",
       "      <td>2678.000000</td>\n",
       "      <td>2678.000000</td>\n",
       "      <td>2678.000000</td>\n",
       "      <td>2678.000000</td>\n",
       "    </tr>\n",
       "    <tr>\n",
       "      <th>mean</th>\n",
       "      <td>8.214780</td>\n",
       "      <td>173.528409</td>\n",
       "      <td>-0.274356</td>\n",
       "      <td>22.195403</td>\n",
       "      <td>5.537058</td>\n",
       "      <td>-63.534589</td>\n",
       "      <td>1.544955</td>\n",
       "      <td>0.761530</td>\n",
       "    </tr>\n",
       "    <tr>\n",
       "      <th>std</th>\n",
       "      <td>1.858407</td>\n",
       "      <td>107.748388</td>\n",
       "      <td>38.893512</td>\n",
       "      <td>1.418260</td>\n",
       "      <td>161.120941</td>\n",
       "      <td>140.351882</td>\n",
       "      <td>1.748178</td>\n",
       "      <td>0.318188</td>\n",
       "    </tr>\n",
       "    <tr>\n",
       "      <th>min</th>\n",
       "      <td>0.450000</td>\n",
       "      <td>0.003797</td>\n",
       "      <td>-87.202730</td>\n",
       "      <td>20.000000</td>\n",
       "      <td>-868.010000</td>\n",
       "      <td>-1392.300000</td>\n",
       "      <td>0.450000</td>\n",
       "      <td>-0.158000</td>\n",
       "    </tr>\n",
       "    <tr>\n",
       "      <th>25%</th>\n",
       "      <td>7.030000</td>\n",
       "      <td>69.984258</td>\n",
       "      <td>-31.800380</td>\n",
       "      <td>20.980000</td>\n",
       "      <td>-91.995000</td>\n",
       "      <td>-129.967500</td>\n",
       "      <td>0.870000</td>\n",
       "      <td>0.560000</td>\n",
       "    </tr>\n",
       "    <tr>\n",
       "      <th>50%</th>\n",
       "      <td>8.245000</td>\n",
       "      <td>173.362326</td>\n",
       "      <td>3.125766</td>\n",
       "      <td>22.100000</td>\n",
       "      <td>10.640000</td>\n",
       "      <td>-48.680000</td>\n",
       "      <td>1.130000</td>\n",
       "      <td>0.710500</td>\n",
       "    </tr>\n",
       "    <tr>\n",
       "      <th>75%</th>\n",
       "      <td>9.540000</td>\n",
       "      <td>267.781761</td>\n",
       "      <td>27.734524</td>\n",
       "      <td>23.357500</td>\n",
       "      <td>103.677500</td>\n",
       "      <td>8.712500</td>\n",
       "      <td>1.650000</td>\n",
       "      <td>0.953000</td>\n",
       "    </tr>\n",
       "    <tr>\n",
       "      <th>max</th>\n",
       "      <td>12.490000</td>\n",
       "      <td>359.954685</td>\n",
       "      <td>88.302681</td>\n",
       "      <td>25.000000</td>\n",
       "      <td>781.340000</td>\n",
       "      <td>481.190000</td>\n",
       "      <td>36.480000</td>\n",
       "      <td>2.800000</td>\n",
       "    </tr>\n",
       "  </tbody>\n",
       "</table>\n",
       "</div>"
      ],
      "text/plain": [
       "              Vmag           RA           DE          Plx         pmRA  \\\n",
       "count  2678.000000  2678.000000  2678.000000  2678.000000  2678.000000   \n",
       "mean      8.214780   173.528409    -0.274356    22.195403     5.537058   \n",
       "std       1.858407   107.748388    38.893512     1.418260   161.120941   \n",
       "min       0.450000     0.003797   -87.202730    20.000000  -868.010000   \n",
       "25%       7.030000    69.984258   -31.800380    20.980000   -91.995000   \n",
       "50%       8.245000   173.362326     3.125766    22.100000    10.640000   \n",
       "75%       9.540000   267.781761    27.734524    23.357500   103.677500   \n",
       "max      12.490000   359.954685    88.302681    25.000000   781.340000   \n",
       "\n",
       "              pmDE        e_Plx          B-V  \n",
       "count  2678.000000  2678.000000  2678.000000  \n",
       "mean    -63.534589     1.544955     0.761530  \n",
       "std     140.351882     1.748178     0.318188  \n",
       "min   -1392.300000     0.450000    -0.158000  \n",
       "25%    -129.967500     0.870000     0.560000  \n",
       "50%     -48.680000     1.130000     0.710500  \n",
       "75%       8.712500     1.650000     0.953000  \n",
       "max     481.190000    36.480000     2.800000  "
      ]
     },
     "execution_count": 12,
     "metadata": {},
     "output_type": "execute_result"
    }
   ],
   "source": [
    "df.describe()"
   ]
  },
  {
   "cell_type": "markdown",
   "metadata": {},
   "source": [
    "## DataFrame 합치기: `concat`, `merge`, `join`\n",
    "참고: https://yganalyst.github.io/data_handling/Pd_12/\n"
   ]
  }
 ],
 "metadata": {
  "kernelspec": {
   "display_name": "Python 3",
   "language": "python",
   "name": "python3"
  },
  "language_info": {
   "codemirror_mode": {
    "name": "ipython",
    "version": 3
   },
   "file_extension": ".py",
   "mimetype": "text/x-python",
   "name": "python",
   "nbconvert_exporter": "python",
   "pygments_lexer": "ipython3",
   "version": "3.8.8"
  }
 },
 "nbformat": 4,
 "nbformat_minor": 2
}
